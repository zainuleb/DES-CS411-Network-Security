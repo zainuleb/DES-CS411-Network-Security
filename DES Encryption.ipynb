{
 "cells": [
  {
   "cell_type": "code",
   "execution_count": 2,
   "metadata": {},
   "outputs": [
    {
     "name": "stdout",
     "output_type": "stream",
     "text": [
      "0000000100100011010001010110011110001001101010111100110111101111\n",
      "1100110000000000110011001111111111110000101010101111000010101010\n"
     ]
    }
   ],
   "source": [
    "def hexTobinary(hexdigits):\n",
    "\tbinarydigits = \"\"\n",
    "\tfor hexdigit in hexdigits:\n",
    "\t\tbinarydigits += bin(int(hexdigit,16))[2:].zfill(4)\n",
    "\treturn binarydigits\n",
    "\n",
    "\n",
    "\n",
    "INITIAL_PERMUTATION_TABLE = ['58 ', '50 ', '42 ', '34 ', '26 ', '18 ', '10 ', '2',\n",
    "\t\t\t '60 ', '52 ', '44 ', '36 ', '28 ', '20 ', '12 ', '4',\n",
    "\t\t\t '62 ', '54 ', '46 ', '38 ', '30 ', '22 ', '14 ', '6', \n",
    "\t\t\t'64 ', '56 ', '48 ', '40 ', '32 ', '24 ', '16 ', '8', \n",
    "\t\t\t'57 ', '49 ', '41 ', '33 ', '25 ', '17 ', '9 ', '1',\n",
    "\t\t\t '59 ', '51 ', '43 ', '35 ', '27 ', '19 ', '11 ', '3',\n",
    "\t\t\t '61 ', '53 ', '45 ', '37 ', '29 ', '21 ', '13 ', '5',\n",
    "\t\t\t '63 ', '55 ', '47 ', '39 ', '31 ', '23 ', '15 ', '7']\n",
    "\n",
    "def apply_initial_p(P_TABLE, PLAINTEXT):\n",
    "    permutated_M = \"\"\n",
    "    for index in P_TABLE:\n",
    "        permutated_M += PLAINTEXT[int(index)-1]\n",
    "    return permutated_M\n",
    "\n",
    "M = '0123456789ABCDEF'\n",
    "\n",
    "plaintext = hexTobinary(M)\n",
    "print (plaintext)\n",
    "print (apply_initial_p(INITIAL_PERMUTATION_TABLE,plaintext))"
   ]
  },
  {
   "cell_type": "code",
   "execution_count": 4,
   "metadata": {},
   "outputs": [
    {
     "name": "stdout",
     "output_type": "stream",
     "text": [
      "0000000100100011010001010110011110001001101010111100110111101111\n",
      "1100110000000000110011001111111111110000101010101111000010101010\n"
     ]
    }
   ],
   "source": [
    "def hexTobinary(hexdigits):\n",
    "\tbinarydigits = \"\"\n",
    "\tfor hexdigit in hexdigits:\n",
    "\t\tbinarydigits += bin(int(hexdigit,16))[2:].zfill(4)\n",
    "\treturn binarydigits\n",
    "\n",
    "\n",
    "\n",
    "INITIAL_PERMUTATION_TABLE = ['58 ', '50 ', '42 ', '34 ', '26 ', '18 ', '10 ', '2',\n",
    "\t\t\t '60 ', '52 ', '44 ', '36 ', '28 ', '20 ', '12 ', '4',\n",
    "\t\t\t '62 ', '54 ', '46 ', '38 ', '30 ', '22 ', '14 ', '6', \n",
    "\t\t\t'64 ', '56 ', '48 ', '40 ', '32 ', '24 ', '16 ', '8', \n",
    "\t\t\t'57 ', '49 ', '41 ', '33 ', '25 ', '17 ', '9 ', '1',\n",
    "\t\t\t '59 ', '51 ', '43 ', '35 ', '27 ', '19 ', '11 ', '3',\n",
    "\t\t\t '61 ', '53 ', '45 ', '37 ', '29 ', '21 ', '13 ', '5',\n",
    "\t\t\t '63 ', '55 ', '47 ', '39 ', '31 ', '23 ', '15 ', '7']\n",
    "\n",
    "def apply_initial_p(P_TABLE, PLAINTEXT):\n",
    "    permutated_M = \"\"\n",
    "    for index in P_TABLE:\n",
    "        permutated_M += PLAINTEXT[int(index)-1]\n",
    "    return permutated_M\n",
    "\n",
    "M = '0123456789ABCDEF'\n",
    "\n",
    "plaintext = hexTobinary(M)\n",
    "print (plaintext)\n",
    "print (apply_initial_p(INITIAL_PERMUTATION_TABLE,plaintext))\n"
   ]
  },
  {
   "cell_type": "code",
   "execution_count": 9,
   "metadata": {},
   "outputs": [
    {
     "name": "stdout",
     "output_type": "stream",
     "text": [
      "0000000100100011010001010110011110001001101010111100110111101111\n",
      "1100110000000000110011001111111111110000101010101111000010101010\n",
      "11001100000000001100110011111111 11110000101010101111000010101010\n"
     ]
    }
   ],
   "source": [
    "M = '0123456789ABCDEF'\n",
    "\n",
    "plaintext = hexTobinary(M)\n",
    "print (plaintext)\n",
    "p_plaintext = apply_initial_p(INITIAL_PERMUTATION_TABLE,plaintext)\n",
    "print (p_plaintext)\n",
    "## output:\n",
    "\n",
    "# 0000000100100011010001010110011110001001101010111100110111101111\n",
    "# 1100110000000000110011001111111111110000101010101111000010101010\n",
    "\n",
    "def spliHalf(binarybits):\n",
    "\treturn binarybits[:32],binarybits[32:]\n",
    "\n",
    "L0,R0 = spliHalf(p_plaintext)\n",
    "print (L0,R0)"
   ]
  },
  {
   "cell_type": "code",
   "execution_count": 12,
   "metadata": {},
   "outputs": [
    {
     "name": "stdout",
     "output_type": "stream",
     "text": [
      "0000000100100011010001010110011110001001101010111100110111101111 64\n"
     ]
    }
   ],
   "source": [
    "INVERSE_PERMUTATION_TABLE = ['40 ', '8 ', '48 ', '16 ', '56 ', '24 ', '64 ', '32',\n",
    "\t\t\t     '39 ', '7 ', '47 ', '15 ', '55 ', '23 ', '63 ', '31',\n",
    "\t\t\t     '38 ', '6 ', '46 ', '14 ',  '54 ', '22 ', '62 ', '30',\n",
    "\t\t\t     '37 ', '5 ', '45 ', '13 ', '53 ', '21 ', '61 ', '29',\n",
    "\t\t\t     '36 ', '4 ', '44 ', '12 ', '52 ', '20 ', '60 ', '28',\n",
    "\t\t\t     '35 ', '3 ', '43 ', '11 ', '51 ', '19 ', '59 ', '27', \n",
    "\t\t\t     '34 ', '2 ', '42 ', '10 ', '50 ', '18 ', '58 ', '26',\n",
    "\t\t\t     '33 ', '1 ', '41 ', '9 ', '49 ', '17 ', '57 ', '25']\n",
    "\n",
    "\n",
    "def apply_initial_p(INVERSE_P_TABLE, ROUND_OUT):\n",
    "\tcipher = \"\"\n",
    "\tfor index in INVERSE_P_TABLE:\n",
    "\t\tcipher += ROUND_OUT[int(index)-1]\n",
    "\treturn cipher\n",
    "# Suppose\n",
    "\n",
    "R16 = '11001100000000001100110011111111'  \n",
    "L16 = '11110000101010101111000010101010'\n",
    "\n",
    "cipher = apply_initial_p(INVERSE_PERMUTATION_TABLE, R16+L16)\n",
    "\n",
    "print (cipher,len(cipher))"
   ]
  },
  {
   "cell_type": "code",
   "execution_count": 14,
   "metadata": {},
   "outputs": [
    {
     "ename": "NameError",
     "evalue": "name 'generate_keys' is not defined",
     "output_type": "error",
     "traceback": [
      "\u001b[1;31m---------------------------------------------------------------------------\u001b[0m",
      "\u001b[1;31mNameError\u001b[0m                                 Traceback (most recent call last)",
      "\u001b[1;32m<ipython-input-14-d99a58a079ed>\u001b[0m in \u001b[0;36m<module>\u001b[1;34m\u001b[0m\n\u001b[0;32m      9\u001b[0m \u001b[1;31m# Generate round keys Part- 1 of blog post\u001b[0m\u001b[1;33m\u001b[0m\u001b[1;33m\u001b[0m\u001b[1;33m\u001b[0m\u001b[0m\n\u001b[0;32m     10\u001b[0m \u001b[1;33m\u001b[0m\u001b[0m\n\u001b[1;32m---> 11\u001b[1;33m \u001b[0mroundkeys\u001b[0m \u001b[1;33m=\u001b[0m \u001b[0mgenerate_keys\u001b[0m\u001b[1;33m(\u001b[0m\u001b[0mkey_64bits\u001b[0m\u001b[1;33m)\u001b[0m\u001b[1;33m\u001b[0m\u001b[1;33m\u001b[0m\u001b[0m\n\u001b[0m\u001b[0;32m     12\u001b[0m \u001b[1;31m# Suppose initial R and L value is\u001b[0m\u001b[1;33m\u001b[0m\u001b[1;33m\u001b[0m\u001b[1;33m\u001b[0m\u001b[0m\n\u001b[0;32m     13\u001b[0m \u001b[0mR\u001b[0m \u001b[1;33m=\u001b[0m \u001b[1;34m'11001100000000001100110011111111'\u001b[0m\u001b[1;33m\u001b[0m\u001b[1;33m\u001b[0m\u001b[0m\n",
      "\u001b[1;31mNameError\u001b[0m: name 'generate_keys' is not defined"
     ]
    }
   ],
   "source": [
    "def XOR(bits1,bits2):\t\n",
    "\txor_result = \"\"\n",
    "\tfor index in range(len(bits1)):\n",
    "\t\tif bits1[index] == bits2[index]:\n",
    "\t\t\txor_result += '0'\n",
    "\t\telse:\n",
    "\t\t\txor_result += '1'\n",
    "\treturn xor_result\n",
    "# Generate round keys Part- 1 of blog post\n",
    "\n",
    "roundkeys = generate_keys(key_64bits)\n",
    "# Suppose initial R and L value is \n",
    "R = '11001100000000001100110011111111'  \n",
    "L = '11110000101010101111000010101010'\n",
    "\n",
    "for round in range(16):\n",
    "\t# functionF() is implemented in part 2\n",
    "\tnewR = XOR(L,functionF(R, roundkeys[round]) )\n",
    "\tnewL = R\n",
    "\t# Swapping the value for next round\n",
    "\tR = newR\n",
    "\tL = newL\n",
    "\n",
    "cipher = apply_initial_p(INVERSE_PERMUTATION_TABLE, R+L)\n",
    "\n",
    "print (cipher)"
   ]
  },
  {
   "cell_type": "code",
   "execution_count": null,
   "metadata": {},
   "outputs": [],
   "source": [
    "M = '0123456789ABCDEF'\n",
    "key ='12345678ABCEDFF9'\n",
    "\n",
    "def DES_encrypt(message,key):\n",
    "\tcipher = \"\"\n",
    "\t# Convert hex digits to binary\n",
    "\tplaintext_bits = hexTobinary(message)\n",
    "\tkey_bits = hexTobinary(key)\n",
    "\t# Generate rounds key\n",
    "\troundkeys = generate_keys(key_bits)\n",
    "\t#### DES steps\n",
    "\t\n",
    "\t## initial permutation\n",
    "\tp_plaintext = apply_initial_p(INITIAL_PERMUTATION_TABLE,plaintext_bits)\n",
    "\t## split in tow half\n",
    "\tL,R = spliHalf(p_plaintext)\n",
    "\t## start rounds\n",
    "\tfor round in range(16):\n",
    "\t\tnewR = XOR(L,functionF(R, roundkeys[round]))\n",
    "\t\tnewL = R\n",
    "\t\tR = newR\n",
    "\t\tL = newL\n",
    "\tcipher = apply_initial_p(INVERSE_PERMUTATION_TABLE, R+L)\n",
    "\treturn cipher"
   ]
  }
 ],
 "metadata": {
  "kernelspec": {
   "display_name": "Python 3",
   "language": "python",
   "name": "python3"
  },
  "language_info": {
   "codemirror_mode": {
    "name": "ipython",
    "version": 3
   },
   "file_extension": ".py",
   "mimetype": "text/x-python",
   "name": "python",
   "nbconvert_exporter": "python",
   "pygments_lexer": "ipython3",
   "version": "3.7.4"
  }
 },
 "nbformat": 4,
 "nbformat_minor": 2
}
